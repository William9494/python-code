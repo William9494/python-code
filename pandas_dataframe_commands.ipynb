{
  "cells": [
    {
      "cell_type": "markdown",
      "metadata": {},
      "source": [
        "# 📘 Pandas `DataFrame` — Commands & Examples (Extensive Cheat Sheet)\n",
        "\n",
        "**Generated:** 2025-09-02 01:28 UTC · **Target pandas:** ≥ 2.x\n",
        "\n",
        "This notebook mirrors the HTML cheat sheet and focuses on the `pandas.DataFrame` API: creation, selection, transformation, aggregation, reshaping, I/O, time-series helpers, and styling.\n",
        "\n",
        "> **Deprecations you should know**  \n",
        "> • `DataFrame.append` was removed in pandas 2.0 — use `pd.concat` instead.  \n",
        "> • `DataFrame.applymap` was deprecated in 2.1 — use `DataFrame.map` for elementwise functions.\n",
        "\n",
        "---"
      ]
    },
    {
      "cell_type": "markdown",
      "metadata": {},
      "source": [
        "## Setup"
      ]
    },
    {
      "cell_type": "code",
      "execution_count": null,
      "metadata": {},
      "outputs": [],
      "source": [
        "import pandas as pd\n",
        "import numpy as np\n",
        "from datetime import datetime\n",
        "pd.__version__"
      ]
    },
    {
      "cell_type": "markdown",
      "metadata": {},
      "source": [
        "## 1) Constructing DataFrames"
      ]
    },
    {
      "cell_type": "code",
      "execution_count": null,
      "metadata": {},
      "outputs": [],
      "source": [
        "# From dict of lists/arrays\n",
        "df = pd.DataFrame({\n",
        "    'city': ['Paris','Lyon','Lille'],\n",
        "    'pop_k': [2148, 522, 232],\n",
        "    'founded': [ -52, 43, 640]  # BCE/CE year for example\n",
        "})\n",
        "df"
      ]
    },
    {
      "cell_type": "code",
      "execution_count": null,
      "metadata": {},
      "outputs": [],
      "source": [
        "# From list of dicts\n",
        "rows = [ {'a':1,'b':2}, {'a':3,'b':4} ]\n",
        "pd.DataFrame(rows)"
      ]
    },
    {
      "cell_type": "code",
      "execution_count": null,
      "metadata": {},
      "outputs": [],
      "source": [
        "# From 2D ndarray + columns\n",
        "arr = np.array([[1,2,3],[4,5,6]])\n",
        "pd.DataFrame(arr, columns=list('abc'))"
      ]
    },
    {
      "cell_type": "code",
      "execution_count": null,
      "metadata": {},
      "outputs": [],
      "source": [
        "# From records / structured ndarray\n",
        "rec = np.array([(1,2),(3,4)], dtype=[('x','i4'),('y','i4')])\n",
        "pd.DataFrame.from_records(rec)"
      ]
    },
    {
      "cell_type": "code",
      "execution_count": null,
      "metadata": {},
      "outputs": [],
      "source": [
        "# From another DataFrame (subset, copy)\n",
        "base = pd.DataFrame({'x':[1,2,3],'y':[4,5,6]})\n",
        "sub  = pd.DataFrame(base, columns=['y'], copy=True)\n",
        "sub"
      ]
    },
    {
      "cell_type": "markdown",
      "metadata": {},
      "source": [
        "## 2) Inspecting structure & metadata"
      ]
    },
    {
      "cell_type": "code",
      "execution_count": null,
      "metadata": {},
      "outputs": [],
      "source": [
        "df.head(3)"
      ]
    },
    {
      "cell_type": "code",
      "execution_count": null,
      "metadata": {},
      "outputs": [],
      "source": [
        "df.tail(2)"
      ]
    },
    {
      "cell_type": "code",
      "execution_count": null,
      "metadata": {},
      "outputs": [],
      "source": [
        "df.sample(3, random_state=0)"
      ]
    },
    {
      "cell_type": "code",
      "execution_count": null,
      "metadata": {},
      "outputs": [],
      "source": [
        "# Dimensions & labels\n",
        "df.shape, df.index, df.columns"
      ]
    },
    {
      "cell_type": "code",
      "execution_count": null,
      "metadata": {},
      "outputs": [],
      "source": [
        "# Dtypes & memory\n",
        "df.dtypes, df.memory_usage(deep=True)"
      ]
    },
    {
      "cell_type": "code",
      "execution_count": null,
      "metadata": {},
      "outputs": [],
      "source": [
        "# Info (prints to stdout)\n",
        "df.info()"
      ]
    },
    {
      "cell_type": "code",
      "execution_count": null,
      "metadata": {},
      "outputs": [],
      "source": [
        "# NumPy view\n",
        "vals = df.to_numpy()\n",
        "vals"
      ]
    },
    {
      "cell_type": "code",
      "execution_count": null,
      "metadata": {},
      "outputs": [],
      "source": [
        "# Describe\n",
        "df.describe(include='all', datetime_is_numeric=True)"
      ]
    },
    {
      "cell_type": "markdown",
      "metadata": {},
      "source": [
        "## 3) Selecting & filtering"
      ]
    },
    {
      "cell_type": "code",
      "execution_count": null,
      "metadata": {},
      "outputs": [],
      "source": [
        "# Column selection\n",
        "df['city'], df[['city','pop_k']]"
      ]
    },
    {
      "cell_type": "code",
      "execution_count": null,
      "metadata": {},
      "outputs": [],
      "source": [
        "# Row slicing by position\n",
        "df[0:2]"
      ]
    },
    {
      "cell_type": "code",
      "execution_count": null,
      "metadata": {},
      "outputs": [],
      "source": [
        "# Label-based selection\n",
        "df_loc = df.set_index('city')\n",
        "(\n",
        "    df_loc.loc['Paris'],\n",
        "    df_loc.loc['Paris','pop_k'],\n",
        "    df_loc.loc['Lyon':'Paris'],\n",
        "    df_loc.loc[lambda d: d.pop_k > 500]\n",
        ")"
      ]
    },
    {
      "cell_type": "code",
      "execution_count": null,
      "metadata": {},
      "outputs": [],
      "source": [
        "# Position-based selection\n",
        "(\n",
        "    df.iloc[0],\n",
        "    df.iloc[[0,2], [1,2]],\n",
        "    df.iloc[:, 0:2]\n",
        ")"
      ]
    },
    {
      "cell_type": "code",
      "execution_count": null,
      "metadata": {},
      "outputs": [],
      "source": [
        "# Fast scalar accessors\n",
        "(df.at[0, 'city'], df.iat[1, 2])"
      ]
    },
    {
      "cell_type": "code",
      "execution_count": null,
      "metadata": {},
      "outputs": [],
      "source": [
        "# Boolean filtering\n",
        "df[df['pop_k'] > 500]"
      ]
    },
    {
      "cell_type": "code",
      "execution_count": null,
      "metadata": {},
      "outputs": [],
      "source": [
        "# Query API\n",
        "df.query('pop_k > 500 and founded < 0')"
      ]
    },
    {
      "cell_type": "code",
      "execution_count": null,
      "metadata": {},
      "outputs": [],
      "source": [
        "# isin / between\n",
        "df[df['city'].isin(['Paris','Lille'])], df[df['pop_k'].between(200, 600)]"
      ]
    },
    {
      "cell_type": "markdown",
      "metadata": {},
      "source": [
        "## 4) Assigning & modifying"
      ]
    },
    {
      "cell_type": "code",
      "execution_count": null,
      "metadata": {},
      "outputs": [],
      "source": [
        "# New / transformed columns\n",
        "df = df.copy()\n",
        "df['pop_m'] = df['pop_k'] / 1000\n",
        "\n",
        "df2 = df.assign(density=lambda d: d.pop_k / 105.4)\n",
        "df2.head()"
      ]
    },
    {
      "cell_type": "code",
      "execution_count": null,
      "metadata": {},
      "outputs": [],
      "source": [
        "# Insert at specific position\n",
        "df3 = df.copy()\n",
        "df3.insert(1, 'country', 'FR', allow_duplicates=False)\n",
        "df3.head()"
      ]
    },
    {
      "cell_type": "code",
      "execution_count": null,
      "metadata": {},
      "outputs": [],
      "source": [
        "# Rename columns/index\n",
        "df_renamed = df.rename(columns={'pop_k':'population_k'})\n",
        "df_renamed = df_renamed.rename_axis(index='row_id', columns='field')\n",
        "df_renamed.head()"
      ]
    },
    {
      "cell_type": "code",
      "execution_count": null,
      "metadata": {},
      "outputs": [],
      "source": [
        "# Replace values\n",
        "df.replace({'Paris':'PAR'}, subset=['city']).head()"
      ]
    },
    {
      "cell_type": "code",
      "execution_count": null,
      "metadata": {},
      "outputs": [],
      "source": [
        "# Drop columns/rows\n",
        "(df.drop(columns=['founded']).head(), df.drop(index=[0]).head())"
      ]
    },
    {
      "cell_type": "code",
      "execution_count": null,
      "metadata": {},
      "outputs": [],
      "source": [
        "# Set / reset index\n",
        "df2 = df.set_index(['city'])\n",
        "df2.reset_index().head()"
      ]
    },
    {
      "cell_type": "code",
      "execution_count": null,
      "metadata": {},
      "outputs": [],
      "source": [
        "# Update in place from another DF (matching index/columns)\n",
        "a = pd.DataFrame({'x':[1,np.nan]}, index=['r1','r2'])\n",
        "b = pd.DataFrame({'x':[9,8]}, index=['r2','r3'])\n",
        "a.update(b)\n",
        "a"
      ]
    },
    {
      "cell_type": "markdown",
      "metadata": {},
      "source": [
        "## 5) Missing data"
      ]
    },
    {
      "cell_type": "code",
      "execution_count": null,
      "metadata": {},
      "outputs": [],
      "source": [
        "# Detect\n",
        "(df.isna().head(), df.notna().head())"
      ]
    },
    {
      "cell_type": "code",
      "execution_count": null,
      "metadata": {},
      "outputs": [],
      "source": [
        "# Drop\n",
        "(df.dropna().head(), df.dropna(axis=1).head(), df.dropna(subset=['city']).head())"
      ]
    },
    {
      "cell_type": "code",
      "execution_count": null,
      "metadata": {},
      "outputs": [],
      "source": [
        "# Fill\n",
        "(\n",
        "    df.fillna({'city':'Unknown'}).head(),\n",
        "    df['pop_k'].fillna(df['pop_k'].median())\n",
        ")"
      ]
    },
    {
      "cell_type": "code",
      "execution_count": null,
      "metadata": {},
      "outputs": [],
      "source": [
        "# Interpolate numerics\n",
        "df['pop_k'].interpolate(method='linear')"
      ]
    },
    {
      "cell_type": "markdown",
      "metadata": {},
      "source": [
        "## 6) Dtypes & conversion"
      ]
    },
    {
      "cell_type": "code",
      "execution_count": null,
      "metadata": {},
      "outputs": [],
      "source": [
        "# Convert dtype\n",
        "conv = df.copy()\n",
        "conv['pop_k'] = conv['pop_k'].astype('int64')\n",
        "conv = conv.astype({'founded':'Int64'})\n",
        "conv.dtypes"
      ]
    },
    {
      "cell_type": "code",
      "execution_count": null,
      "metadata": {},
      "outputs": [],
      "source": [
        "# Best possible dtypes (uses pd.NA where appropriate)\n",
        "df.convert_dtypes().dtypes"
      ]
    },
    {
      "cell_type": "code",
      "execution_count": null,
      "metadata": {},
      "outputs": [],
      "source": [
        "# Categoricals for memory/speed\n",
        "cat = df.copy()\n",
        "cat['city'] = cat['city'].astype('category')\n",
        "cat.dtypes"
      ]
    },
    {
      "cell_type": "code",
      "execution_count": null,
      "metadata": {},
      "outputs": [],
      "source": [
        "# Datetime conversion\n",
        "dates = pd.to_datetime(['2024-01-01','2024-01-02'])\n",
        "pd.DataFrame({'d':dates}).assign(day_name=lambda d: d['d'].dt.day_name())"
      ]
    },
    {
      "cell_type": "markdown",
      "metadata": {},
      "source": [
        "## 7) Arithmetic & comparisons"
      ]
    },
    {
      "cell_type": "code",
      "execution_count": null,
      "metadata": {},
      "outputs": [],
      "source": [
        "# Vectorized ops align on labels\n",
        "df_loc = df.set_index('city')\n",
        "s = pd.Series({'Paris':10,'Lyon':5})\n",
        "df_loc.assign(score=s)"
      ]
    },
    {
      "cell_type": "code",
      "execution_count": null,
      "metadata": {},
      "outputs": [],
      "source": [
        "# Elementwise arithmetic (broadcasts scalars)\n",
        "df_num = pd.DataFrame({'a':[1,2],'b':[3,4]})\n",
        "(\n",
        "    df_num.add(10),\n",
        "    df_num.sub(df_num['a'], axis=0),\n",
        "    df_num.mul(df_num, fill_value=1),\n",
        "    df_num.div(2),\n",
        "    df_num.pow(2)\n",
        ")"
      ]
    },
    {
      "cell_type": "code",
      "execution_count": null,
      "metadata": {},
      "outputs": [],
      "source": [
        "# Reverse ops (radd, rsub, ...)\n",
        "10 + df_num"
      ]
    },
    {
      "cell_type": "code",
      "execution_count": null,
      "metadata": {},
      "outputs": [],
      "source": [
        "# Comparisons & clip\n",
        "(df_num.ge(2), df_num.eq(3), df_num.clip(lower=2, upper=3))"
      ]
    },
    {
      "cell_type": "markdown",
      "metadata": {},
      "source": [
        "## 8) Descriptive statistics"
      ]
    },
    {
      "cell_type": "code",
      "execution_count": null,
      "metadata": {},
      "outputs": [],
      "source": [
        "(\n",
        "    df_num.sum(), df_num.mean(), df_num.median(), df_num.std(), df_num.var(),\n",
        "    (df_num.min(), df_num.max()),\n",
        "    (df_num.idxmin(), df_num.idxmax()),\n",
        "    df_num.quantile([0.25,0.5,0.75]),\n",
        "    (df_num.cumsum(), df_num.cumprod(), df_num.cummin(), df_num.cummax()),\n",
        "    df_num.nunique(),\n",
        "    df_num.value_counts()\n",
        ")"
      ]
    },
    {
      "cell_type": "code",
      "execution_count": null,
      "metadata": {},
      "outputs": [],
      "source": [
        "# Correlation / covariance\n",
        "stocks = pd.DataFrame({'A':[1,2,3,4], 'B':[1,1,2,3]})\n",
        "(stocks.corr(method='pearson'), stocks.cov())"
      ]
    },
    {
      "cell_type": "code",
      "execution_count": null,
      "metadata": {},
      "outputs": [],
      "source": [
        "# Rank\n",
        "stocks.rank(method='average')"
      ]
    },
    {
      "cell_type": "markdown",
      "metadata": {},
      "source": [
        "## 9) Sorting, ranking, sampling"
      ]
    },
    {
      "cell_type": "code",
      "execution_count": null,
      "metadata": {},
      "outputs": [],
      "source": [
        "df.sort_values(by=['pop_k','city'], ascending=[False, True]).head()"
      ]
    },
    {
      "cell_type": "code",
      "execution_count": null,
      "metadata": {},
      "outputs": [],
      "source": [
        "df.sort_index().head()"
      ]
    },
    {
      "cell_type": "code",
      "execution_count": null,
      "metadata": {},
      "outputs": [],
      "source": [
        "(df.nlargest(2, 'pop_k'), df.nsmallest(2, 'pop_k'))"
      ]
    },
    {
      "cell_type": "code",
      "execution_count": null,
      "metadata": {},
      "outputs": [],
      "source": [
        "df.sample(frac=0.5, random_state=42)"
      ]
    },
    {
      "cell_type": "markdown",
      "metadata": {},
      "source": [
        "## 10) Reshaping & pivoting"
      ]
    },
    {
      "cell_type": "code",
      "execution_count": null,
      "metadata": {},
      "outputs": [],
      "source": [
        "# Wide ↔ long\n",
        "sales = pd.DataFrame({\n",
        "  'city':['Paris','Paris','Lyon','Lyon'],\n",
        "  'year':[2023,2024,2023,2024],\n",
        "  'rev':[10,12,4,5]\n",
        "})\n",
        "\n",
        "wide = sales.pivot(index='city', columns='year', values='rev')\n",
        "long = wide.reset_index().melt(id_vars='city', var_name='year', value_name='rev')\n",
        "(wide, long.head())"
      ]
    },
    {
      "cell_type": "code",
      "execution_count": null,
      "metadata": {},
      "outputs": [],
      "source": [
        "# Stack / unstack (MultiIndex)\n",
        "mi = sales.set_index(['city','year'])\n",
        "mi_unstacked = mi.unstack('year')\n",
        "mi_stacked   = mi_unstacked.stack('year')\n",
        "(mi_unstacked, mi_stacked)"
      ]
    },
    {
      "cell_type": "code",
      "execution_count": null,
      "metadata": {},
      "outputs": [],
      "source": [
        "# Transpose\n",
        "wide.T"
      ]
    },
    {
      "cell_type": "markdown",
      "metadata": {},
      "source": [
        "## 11) Combine, join, merge, concat"
      ]
    },
    {
      "cell_type": "code",
      "execution_count": null,
      "metadata": {},
      "outputs": [],
      "source": [
        "# Merge (SQL-style joins)\n",
        "left  = pd.DataFrame({'k':[1,2,3], 'v_left':['a','b','c']})\n",
        "right = pd.DataFrame({'k':[2,3,4], 'v_right':['x','y','z']})\n",
        "(\n",
        "    left.merge(right, on='k', how='inner'),\n",
        "    left.merge(right, on='k', how='left')\n",
        ")"
      ]
    },
    {
      "cell_type": "code",
      "execution_count": null,
      "metadata": {},
      "outputs": [],
      "source": [
        "# Join by index\n",
        "l = left.set_index('k'); r = right.set_index('k')\n",
        "l.join(r, how='outer')"
      ]
    },
    {
      "cell_type": "code",
      "execution_count": null,
      "metadata": {},
      "outputs": [],
      "source": [
        "# Concatenate vertically / horizontally\n",
        "(pd.concat([left, left], ignore_index=True), pd.concat([l, r], axis=1))"
      ]
    },
    {
      "cell_type": "code",
      "execution_count": null,
      "metadata": {},
      "outputs": [],
      "source": [
        "# Combine / combine_first\n",
        "A = pd.DataFrame({'x':[1, None, 3]})\n",
        "B = pd.DataFrame({'x':[9, 8, None]})\n",
        "A.combine_first(B)"
      ]
    },
    {
      "cell_type": "markdown",
      "metadata": {},
      "source": [
        "## 12) GroupBy & aggregation"
      ]
    },
    {
      "cell_type": "code",
      "execution_count": null,
      "metadata": {},
      "outputs": [],
      "source": [
        "g = sales.groupby('city')\n",
        "(\n",
        "    g['rev'].sum(),\n",
        "    g.agg(rev_sum=('rev','sum'), rev_mean=('rev','mean'))\n",
        ")"
      ]
    },
    {
      "cell_type": "code",
      "execution_count": null,
      "metadata": {},
      "outputs": [],
      "source": [
        "# Multiple keys & functions\n",
        "sales.groupby(['city','year']).agg(\n",
        "  rev_sum=('rev','sum'),\n",
        "  rev_med=('rev','median'),\n",
        ")"
      ]
    },
    {
      "cell_type": "code",
      "execution_count": null,
      "metadata": {},
      "outputs": [],
      "source": [
        "# Transform vs. apply\n",
        "sales.assign(zscore=lambda d: (d['rev'] - d.groupby('city')['rev'].transform('mean'))\n",
        "                               / d.groupby('city')['rev'].transform('std'))"
      ]
    },
    {
      "cell_type": "code",
      "execution_count": null,
      "metadata": {},
      "outputs": [],
      "source": [
        "# Value counts per group\n",
        "sales.groupby('city')['rev'].value_counts()"
      ]
    },
    {
      "cell_type": "markdown",
      "metadata": {},
      "source": [
        "## 13) Rolling / Expanding / EWM"
      ]
    },
    {
      "cell_type": "code",
      "execution_count": null,
      "metadata": {},
      "outputs": [],
      "source": [
        "ts = pd.DataFrame({'t':pd.date_range('2024-01-01', periods=6, freq='D'),\n",
        "                   'x':[1,2,3,4,5,6]}).set_index('t')\n",
        "# Rolling window (size=3)\n",
        "(ts['x'].rolling(3).mean(), ts.rolling(window='3D').sum())"
      ]
    },
    {
      "cell_type": "code",
      "execution_count": null,
      "metadata": {},
      "outputs": [],
      "source": [
        "# Expanding from the start\n",
        "ts['x'].expanding(min_periods=1).mean()"
      ]
    },
    {
      "cell_type": "code",
      "execution_count": null,
      "metadata": {},
      "outputs": [],
      "source": [
        "# Exponentially-weighted\n",
        "ts['x'].ewm(span=3, adjust=False).mean()"
      ]
    },
    {
      "cell_type": "markdown",
      "metadata": {},
      "source": [
        "## 14) Time series helpers"
      ]
    },
    {
      "cell_type": "code",
      "execution_count": null,
      "metadata": {},
      "outputs": [],
      "source": [
        "ts = ts.asfreq('D')                      # set (or convert to) daily frequency\n",
        "# Label-based time slicing\n",
        "ts.loc['2024-01-02':'2024-01-04']"
      ]
    },
    {
      "cell_type": "code",
      "execution_count": null,
      "metadata": {},
      "outputs": [],
      "source": [
        "# At/Between specific times (when index is datetime)\n",
        "intraday = pd.DataFrame({'v':range(5)},\n",
        "            index=pd.date_range('2024-01-01 09:00', periods=5, freq='30min'))\n",
        "(intraday.at_time('09:30'), intraday.between_time('09:30','10:00'))"
      ]
    },
    {
      "cell_type": "code",
      "execution_count": null,
      "metadata": {},
      "outputs": [],
      "source": [
        "# Resampling\n",
        "intraday.resample('1H').agg({'v':'sum'})"
      ]
    },
    {
      "cell_type": "markdown",
      "metadata": {},
      "source": [
        "## 15) I/O & serialization\n",
        "\n",
        "> ⚠️ File operations write to your current working directory in the runtime. Uncomment to execute."
      ]
    },
    {
      "cell_type": "code",
      "execution_count": null,
      "metadata": {},
      "outputs": [],
      "source": [
        "# CSV\n",
        "# df.to_csv('out.csv', index=False)\n",
        "# pd.read_csv('out.csv').head()\n",
        "\n",
        "# Parquet / Feather (install pyarrow if needed)\n",
        "# df.to_parquet('out.parquet')\n",
        "# pd.read_parquet('out.parquet').head()\n",
        "\n",
        "# df.to_feather('out.feather')\n",
        "# pd.read_feather('out.feather').head()\n",
        "\n",
        "# Excel\n",
        "# df.to_excel('out.xlsx', sheet_name='Data', index=False)\n",
        "# pd.read_excel('out.xlsx').head()\n",
        "\n",
        "# JSON / HTML / SQL (requires connector)\n",
        "# df.to_json('out.json', orient='records')\n",
        "# df.to_html('out.html')\n",
        "# pd.read_sql('SELECT 1', con)  # requires a DB connection\n",
        "\n",
        "# Pickle (Python-specific, not cross-language)\n",
        "# df.to_pickle('out.pkl')\n",
        "# pd.read_pickle('out.pkl').head()"
      ]
    },
    {
      "cell_type": "markdown",
      "metadata": {},
      "source": [
        "## 16) Index operations"
      ]
    },
    {
      "cell_type": "code",
      "execution_count": null,
      "metadata": {},
      "outputs": [],
      "source": [
        "df_idx = sales.copy()\n",
        "# Create / mutate index\n",
        "df_idx = df_idx.set_index(['city','year']).sort_index().rename_axis(index=['City','Year'])\n",
        "df_idx.head()"
      ]
    },
    {
      "cell_type": "code",
      "execution_count": null,
      "metadata": {},
      "outputs": [],
      "source": [
        "# Cross-section by index level\n",
        "(df_idx.xs('Paris', level='City'), df_idx.xs(2024, level='Year'))"
      ]
    },
    {
      "cell_type": "code",
      "execution_count": null,
      "metadata": {},
      "outputs": [],
      "source": [
        "# Reindex & align\n",
        "dates = pd.date_range('2024-01-01', periods=3, freq='Y')\n",
        "pd.DataFrame({'v':[1,2,3]}, index=dates).reindex(\n",
        "    pd.date_range('2023-01-01', periods=5, freq='Y'),\n",
        "    fill_value=0)"
      ]
    },
    {
      "cell_type": "code",
      "execution_count": null,
      "metadata": {},
      "outputs": [],
      "source": [
        "# Swap / reorder levels\n",
        "(\n",
        "    df_idx.swaplevel('City','Year').sort_index().head(),\n",
        "    df_idx.reorder_levels(['Year','City']).sort_index().head()\n",
        ")"
      ]
    },
    {
      "cell_type": "markdown",
      "metadata": {},
      "source": [
        "## 17) Misc. utilities"
      ]
    },
    {
      "cell_type": "code",
      "execution_count": null,
      "metadata": {},
      "outputs": [],
      "source": [
        "# Elementwise mapping (pandas ≥ 2.1: use .map instead of .applymap)\n",
        "df_num.map(lambda x: x * 10)"
      ]
    },
    {
      "cell_type": "code",
      "execution_count": null,
      "metadata": {},
      "outputs": [],
      "source": [
        "# Apply along axis\n",
        "(df_num.apply(np.sum, axis=0), df_num.apply(np.sum, axis=1))"
      ]
    },
    {
      "cell_type": "code",
      "execution_count": null,
      "metadata": {},
      "outputs": [],
      "source": [
        "# Pipe for method chaining\n",
        "(df_num\n",
        "    .pipe(lambda d: d.assign(total=d.sum(axis=1)))\n",
        "    .query('total > 3')\n",
        "    .sort_values('total'))"
      ]
    },
    {
      "cell_type": "code",
      "execution_count": null,
      "metadata": {},
      "outputs": [],
      "source": [
        "# Explode list-like column\n",
        "df_list = pd.DataFrame({'a':[1,2], 'tags':[['x','y'], ['y']]})\n",
        "df_list.explode('tags', ignore_index=True)"
      ]
    },
    {
      "cell_type": "code",
      "execution_count": null,
      "metadata": {},
      "outputs": [],
      "source": [
        "# Evaluate string expressions\n",
        "df_eval = pd.DataFrame({'a':[1,2],'b':[3,4]})\n",
        "df_eval.eval('c = a + b')"
      ]
    },
    {
      "cell_type": "code",
      "execution_count": null,
      "metadata": {},
      "outputs": [],
      "source": [
        "# Where / mask\n",
        "df_num.where(df_num > 2, other=np.nan), df_num.mask(df_num % 2 == 0, other=-1)"
      ]
    },
    {
      "cell_type": "markdown",
      "metadata": {},
      "source": [
        "## 18) Styling (quick)\n",
        "\n",
        "> Styling is for presentation only; avoid using it inside computation chains."
      ]
    },
    {
      "cell_type": "code",
      "execution_count": null,
      "metadata": {},
      "outputs": [],
      "source": [
        "styled = (df.style\n",
        "            .format({'pop_k':'{:,}'})\n",
        "            .highlight_max(subset=['pop_k'], color='#fde68a')\n",
        "            .hide(axis='index'))\n",
        "styled"
      ]
    },
    {
      "cell_type": "markdown",
      "metadata": {},
      "source": [
        "---\n",
        "### References\n",
        "- Pandas DataFrame API: https://pandas.pydata.org/pandas-docs/stable/reference/api/pandas.DataFrame.html  \n",
        "- Indexing/Selecting: https://pandas.pydata.org/pandas-docs/stable/user_guide/indexing.html  \n",
        "- Full API Reference: https://pandas.pydata.org/pandas-docs/stable/reference/index.html"
      ]
    }
  ],
  "metadata": {
    "kernelspec": {
      "display_name": "Python 3",
      "language": "python",
      "name": "python3"
    },
    "language_info": {
      "name": "python",
      "version": "3.x"
    }
  },
  "nbformat": 4,
  "nbformat_minor": 5
}