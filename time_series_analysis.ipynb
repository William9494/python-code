{
  "cells": [
    {
      "cell_type": "markdown",
      "metadata": {},
      "source": [
        "# Time Series Analysis — Practical Notebook\n",
        "\n",
        "Generated: 2025-09-02 02:01 UTC"
      ]
    },
    {
      "cell_type": "code",
      "execution_count": null,
      "metadata": {},
      "outputs": [],
      "source": [
        "import numpy as np, pandas as pd, seaborn as sns, matplotlib.pyplot as plt\n",
        "import statsmodels.api as sm\n",
        "from statsmodels.tsa.seasonal import STL\n",
        "from statsmodels.tsa.stattools import adfuller, kpss\n",
        "from statsmodels.graphics.tsaplots import plot_acf, plot_pacf\n",
        "sns.set_theme(context='notebook', style='whitegrid', palette='deep')\n",
        "RNG = np.random.default_rng(42)\n",
        "TARGET='revenue'; EXOG=['promo','holiday']"
      ]
    },
    {
      "cell_type": "markdown",
      "metadata": {},
      "source": [
        "## Generate synthetic data (replace with your CSV if needed)"
      ]
    },
    {
      "cell_type": "code",
      "execution_count": null,
      "metadata": {},
      "outputs": [],
      "source": [
        "# Synthetic daily series\n",
        "days=620\n",
        "idx = pd.date_range('2023-01-01', periods=days, freq='D')\n",
        "trend = np.linspace(100, 170, days)\n",
        "weekly = 10 * np.sin(2*np.pi*(idx.dayofweek)/7)\n",
        "annual = 5 * np.sin(2*np.pi*(idx.dayofyear)/365.25)\n",
        "noise = RNG.normal(0, 6, days)\n",
        "promo = (RNG.random(days)<0.08).astype(int)\n",
        "holiday = ((idx.month==12) & (idx.day>=20)).astype(int)\n",
        "revenue = trend + weekly + annual + 8*promo + 12*holiday + noise\n",
        "\n",
        "ts = pd.DataFrame({'revenue':revenue,'promo':promo,'holiday':holiday}, index=idx)\n",
        "# fill small gaps\n",
        "nan_days = RNG.choice(ts.index, size=10, replace=False)\n",
        "ts.loc[nan_days, 'revenue'] = np.nan\n",
        "ts['revenue'] = ts['revenue'].ffill().interpolate('time')\n",
        "ts = ts.asfreq('D').sort_index()\n",
        "ts.head()"
      ]
    },
    {
      "cell_type": "markdown",
      "metadata": {},
      "source": [
        "## EDA, STL, Stationarity, Baselines, SARIMAX (condensed)"
      ]
    },
    {
      "cell_type": "code",
      "execution_count": null,
      "metadata": {},
      "outputs": [],
      "source": [
        "fig, ax = plt.subplots(1,1, figsize=(12,4)); ax.plot(ts.index, ts[TARGET]); ax.set_title('Daily revenue'); plt.show()\n",
        "# STL\n",
        "stl = STL(ts[TARGET], period=7, robust=True).fit(); stl.plot(); plt.show()\n",
        "# ADF/KPSS\n",
        "print('ADF:', adfuller(ts[TARGET].dropna())[:2]); print('KPSS:', kpss(ts[TARGET].dropna(), regression='c', nlags='auto')[:2])\n",
        "# Baselines\n",
        "cut = ts.index.max() - pd.Timedelta(days=60)\n",
        "train, valid = ts.loc[:cut], ts.loc[cut+pd.Timedelta(days=1):]\n",
        "h = len(valid)\n",
        "naive = pd.Series(train[TARGET].iloc[-1], index=valid.index)\n",
        "seasonal_naive = pd.Series((train[TARGET].iloc[-7:].tolist() * (h//7 + 1))[:h], index=valid.index)\n",
        "sma7 = pd.Series(train[TARGET].iloc[-7:].mean(), index=valid.index)\n",
        "fig,ax=plt.subplots(1,1,figsize=(12,4)); ax.plot(train[TARGET]); ax.plot(valid[TARGET]); ax.plot(naive,'--'); ax.plot(seasonal_naive,'--'); ax.plot(sma7,'--'); plt.show()\n",
        "# SARIMAX\n",
        "mod = sm.tsa.statespace.SARIMAX(train[TARGET], order=(1,1,1), seasonal_order=(1,1,1,7), exog=train[EXOG],\n",
        "                                enforce_stationarity=False, enforce_invertibility=False)\n",
        "res = mod.fit(disp=False)\n",
        "fc = res.get_forecast(steps=len(valid), exog=valid[EXOG])\n",
        "mean_fc, conf = fc.predicted_mean, fc.conf_int()\n",
        "fig, ax = plt.subplots(1,1, figsize=(12,4)); ax.plot(train[TARGET], label='train'); ax.plot(valid[TARGET], label='actual');\n",
        "ax.plot(mean_fc, label='SARIMAX'); ax.fill_between(conf.index, conf.iloc[:,0], conf.iloc[:,1], alpha=.2); ax.legend(); plt.show()"
      ]
    }
  ],
  "metadata": {
    "kernelspec": {
      "display_name": "Python 3",
      "language": "python",
      "name": "python3"
    }
  },
  "nbformat": 4,
  "nbformat_minor": 5
}