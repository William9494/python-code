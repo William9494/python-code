{
  "cells": [
    {
      "cell_type": "markdown",
      "metadata": {},
      "source": [
        "# 🔍 Exploratory Data Analysis (EDA) — Practical Notebook\n",
        "\n",
        "**Generated:** 2025-09-02 01:35 UTC  \n",
        "**Stack:** pandas ≥ 2.x · NumPy · Seaborn · Matplotlib · SciPy (optional)\n",
        "\n",
        "This notebook is a hands‑on EDA guide you can run top‑down or by section:\n",
        "\n",
        "1. Setup & data loading (or generate a synthetic dataset)\n",
        "2. Data overview & structure\n",
        "3. Missing values & cardinality\n",
        "4. Distributions & outliers\n",
        "5. Relationships: numeric↔numeric, categorical↔numeric\n",
        "6. Correlations & heatmaps\n",
        "7. Time‑series EDA (if a datetime column exists)\n",
        "8. Grouped summaries & pivots\n",
        "9. Automated quick‑report helpers\n",
        "\n",
        "> Tip: Replace the synthetic dataset with your CSV/Parquet in the **Load your data** cell."
      ]
    },
    {
      "cell_type": "markdown",
      "metadata": {},
      "source": [
        "## 0) Setup"
      ]
    },
    {
      "cell_type": "code",
      "execution_count": null,
      "metadata": {},
      "outputs": [],
      "source": [
        "import numpy as np\n",
        "import pandas as pd\n",
        "import seaborn as sns\n",
        "import matplotlib.pyplot as plt\n",
        "from scipy import stats\n",
        "\n",
        "# Plot style\n",
        "sns.set_theme(context='notebook', style='whitegrid', palette='viridis')\n",
        "\n",
        "# Display options\n",
        "pd.set_option('display.max_rows', 60)\n",
        "pd.set_option('display.max_columns', 60)\n",
        "pd.set_option('display.width', 140)\n",
        "\n",
        "RNG = np.random.default_rng(7)\n",
        "\n",
        "pd.__version__"
      ]
    },
    {
      "cell_type": "markdown",
      "metadata": {},
      "source": [
        "## 1) Load your data (or use the synthetic dataset)"
      ]
    },
    {
      "cell_type": "code",
      "execution_count": null,
      "metadata": {},
      "outputs": [],
      "source": [
        "# Option A: Load your own file\n",
        "# df = pd.read_csv('your_file.csv')\n",
        "# df = pd.read_parquet('your_file.parquet')\n",
        "\n",
        "# Option B: Generate a realistic synthetic dataset for demo\n",
        "n = 2000\n",
        "start = np.datetime64('2024-01-01')\n",
        "dates = start + np.arange(n) % 180  # wrap within ~6 months\n",
        "\n",
        "# Numeric base features\n",
        "age = RNG.normal(35, 9, n).clip(18, 75)\n",
        "experience = np.maximum(0, age - RNG.normal(22, 4, n))\n",
        "base_income = RNG.normal(45000, 12000, n)\n",
        "# Seasonality & trend for revenue\n",
        "season = (np.sin((np.arange(n) % 30)/30*2*np.pi) + 1) * 0.1\n",
        "trend = np.linspace(0, 0.15, n)\n",
        "noise = RNG.normal(0, 0.25, n)\n",
        "revenue = (200 + 5*experience + 0.0004*base_income) * (1 + season + trend + noise)\n",
        "\n",
        "# Categoricals\n",
        "city = RNG.choice(['Paris','Lyon','Lille','Marseille','Bordeaux'], size=n, p=[.32,.18,.16,.22,.12])\n",
        "segment = RNG.choice(['SMB','Mid-Market','Enterprise'], size=n, p=[.5,.35,.15])\n",
        "channel = RNG.choice(['Web','Field','Partner','Reseller'], size=n)\n",
        "\n",
        "# Construct frame\n",
        "synthetic = pd.DataFrame({\n",
        "    'date': pd.to_datetime(dates),\n",
        "    'customer_id': RNG.integers(10000, 99999, n),\n",
        "    'age': age.round(0).astype('int'),\n",
        "    'experience_yrs': experience.round(1),\n",
        "    'base_income': base_income.round(2),\n",
        "    'monthly_revenue': revenue.round(2),\n",
        "    'city': city,\n",
        "    'segment': segment,\n",
        "    'channel': channel\n",
        "})\n",
        "\n",
        "# Inject a bit of messiness\n",
        "mask_nan = RNG.choice([True, False], size=n, p=[0.05, 0.95])\n",
        "synthetic.loc[mask_nan, 'experience_yrs'] = np.nan\n",
        "synthetic.loc[synthetic.sample(frac=0.02, random_state=1).index, 'monthly_revenue'] *= RNG.uniform(1.5, 2.5, size=int(0.02*n))\n",
        "\n",
        "# Use synthetic as default df\n",
        "df = synthetic.copy()\n",
        "df.head()"
      ]
    },
    {
      "cell_type": "markdown",
      "metadata": {},
      "source": [
        "## 2) Data overview & structure"
      ]
    },
    {
      "cell_type": "code",
      "execution_count": null,
      "metadata": {},
      "outputs": [],
      "source": [
        "df.shape, df.index[:3], df.columns.tolist()"
      ]
    },
    {
      "cell_type": "code",
      "execution_count": null,
      "metadata": {},
      "outputs": [],
      "source": [
        "df.info()"
      ]
    },
    {
      "cell_type": "code",
      "execution_count": null,
      "metadata": {},
      "outputs": [],
      "source": [
        "# Summary of numeric columns\n",
        "num_desc = df.describe().T\n",
        "num_desc"
      ]
    },
    {
      "cell_type": "code",
      "execution_count": null,
      "metadata": {},
      "outputs": [],
      "source": [
        "# Quick peek at categorical columns (top categories)\n",
        "cat_cols = [c for c in df.select_dtypes(include=['object','category']).columns]\n",
        "{c: df[c].value_counts(dropna=False).head(5) for c in cat_cols}"
      ]
    },
    {
      "cell_type": "markdown",
      "metadata": {},
      "source": [
        "## 3) Missing values & cardinality"
      ]
    },
    {
      "cell_type": "code",
      "execution_count": null,
      "metadata": {},
      "outputs": [],
      "source": [
        "missing = df.isna().sum().sort_values(ascending=False)\n",
        "missing[missing>0]"
      ]
    },
    {
      "cell_type": "code",
      "execution_count": null,
      "metadata": {},
      "outputs": [],
      "source": [
        "# Distinct counts per column\n",
        "cardinality = df.nunique(dropna=False).sort_values(ascending=False)\n",
        "cardinality"
      ]
    },
    {
      "cell_type": "code",
      "execution_count": null,
      "metadata": {},
      "outputs": [],
      "source": [
        "# Visualize missing values as a heatmap-like mask\n",
        "plt.figure(figsize=(10,3))\n",
        "plt.imshow(df.isna(), aspect='auto', interpolation='nearest', cmap='magma_r')\n",
        "plt.title('Missing value pattern (dark = missing)')\n",
        "plt.xlabel('Columns'); plt.ylabel('Rows (sample)')\n",
        "plt.show()"
      ]
    },
    {
      "cell_type": "markdown",
      "metadata": {},
      "source": [
        "## 4) Distributions & outliers"
      ]
    },
    {
      "cell_type": "code",
      "execution_count": null,
      "metadata": {},
      "outputs": [],
      "source": [
        "num_cols = [c for c in df.select_dtypes(include=[np.number]).columns if c not in ['customer_id']]\n",
        "\n",
        "# Histograms + KDE\n",
        "ncols = 3\n",
        "nrows = int(np.ceil(len(num_cols)/ncols))\n",
        "fig, axes = plt.subplots(nrows, ncols, figsize=(14, 3*nrows))\n",
        "axes = axes.ravel()\n",
        "for ax, col in zip(axes, num_cols):\n",
        "    sns.histplot(df[col], bins=30, kde=True, ax=ax)\n",
        "    ax.set_title(col)\n",
        "for ax in axes[len(num_cols):]:\n",
        "    ax.axis('off')\n",
        "plt.tight_layout(); plt.show()"
      ]
    },
    {
      "cell_type": "code",
      "execution_count": null,
      "metadata": {},
      "outputs": [],
      "source": [
        "# Boxplots to spot outliers\n",
        "plt.figure(figsize=(12, 0.5*len(num_cols)+1))\n",
        "sns.boxplot(data=df[num_cols], orient='h')\n",
        "plt.title('Boxplots of numeric features')\n",
        "plt.show()"
      ]
    },
    {
      "cell_type": "markdown",
      "metadata": {},
      "source": [
        "## 5) Relationships (numeric ↔ numeric)"
      ]
    },
    {
      "cell_type": "code",
      "execution_count": null,
      "metadata": {},
      "outputs": [],
      "source": [
        "# Pairplot on a sample to avoid heavy rendering\n",
        "sample = df.sample(n=min(600, len(df)), random_state=0)\n",
        "sns.pairplot(sample, vars=['age','experience_yrs','base_income','monthly_revenue'], diag_kind='kde')\n",
        "plt.show()"
      ]
    },
    {
      "cell_type": "code",
      "execution_count": null,
      "metadata": {},
      "outputs": [],
      "source": [
        "# Scatter with regression fits\n",
        "fig, axes = plt.subplots(1, 3, figsize=(14,4))\n",
        "sns.regplot(data=df, x='experience_yrs', y='monthly_revenue', scatter_kws={'alpha':0.3}, ax=axes[0])\n",
        "sns.regplot(data=df, x='base_income', y='monthly_revenue', scatter_kws={'alpha':0.3}, ax=axes[1])\n",
        "sns.regplot(data=df, x='age', y='monthly_revenue', scatter_kws={'alpha':0.3}, ax=axes[2])\n",
        "axes[0].set_title('Revenue vs Experience'); axes[1].set_title('Revenue vs Income'); axes[2].set_title('Revenue vs Age')\n",
        "plt.tight_layout(); plt.show()"
      ]
    },
    {
      "cell_type": "markdown",
      "metadata": {},
      "source": [
        "## 6) Relationships (categorical ↔ numeric)"
      ]
    },
    {
      "cell_type": "code",
      "execution_count": null,
      "metadata": {},
      "outputs": [],
      "source": [
        "# Box & violin by segment for monthly_revenue\n",
        "fig, axes = plt.subplots(1,2, figsize=(12,4))\n",
        "sns.boxplot(data=df, x='segment', y='monthly_revenue', ax=axes[0])\n",
        "sns.violinplot(data=df, x='segment', y='monthly_revenue', inner='quartile', ax=axes[1])\n",
        "axes[0].set_title('Revenue by Segment — Boxplot')\n",
        "axes[1].set_title('Revenue by Segment — Violin')\n",
        "plt.tight_layout(); plt.show()"
      ]
    },
    {
      "cell_type": "code",
      "execution_count": null,
      "metadata": {},
      "outputs": [],
      "source": [
        "# Pointplot shows mean ± CI across categories\n",
        "plt.figure(figsize=(6,4))\n",
        "sns.pointplot(data=df, x='city', y='monthly_revenue', estimator=np.mean, errorbar=('ci',95))\n",
        "plt.xticks(rotation=20)\n",
        "plt.title('Average revenue by city (95% CI)')\n",
        "plt.tight_layout(); plt.show()"
      ]
    },
    {
      "cell_type": "markdown",
      "metadata": {},
      "source": [
        "## 7) Correlations & heatmaps"
      ]
    },
    {
      "cell_type": "code",
      "execution_count": null,
      "metadata": {},
      "outputs": [],
      "source": [
        "# Pearson for linear, Spearman for monotonic\n",
        "corr_pearson = df[num_cols].corr(method='pearson')\n",
        "corr_spearman = df[num_cols].corr(method='spearman')\n",
        "\n",
        "fig, axes = plt.subplots(1,2, figsize=(14,5))\n",
        "sns.heatmap(corr_pearson, vmin=-1, vmax=1, center=0, cmap='coolwarm', annot=True, fmt='.2f', ax=axes[0])\n",
        "axes[0].set_title('Pearson correlation')\n",
        "sns.heatmap(corr_spearman, vmin=-1, vmax=1, center=0, cmap='coolwarm', annot=True, fmt='.2f', ax=axes[1])\n",
        "axes[1].set_title('Spearman correlation')\n",
        "plt.tight_layout(); plt.show()"
      ]
    },
    {
      "cell_type": "code",
      "execution_count": null,
      "metadata": {},
      "outputs": [],
      "source": [
        "# Optional: simple helper metrics\n",
        "\n",
        "def cramers_v_from_series(x, y):\n",
        "    # Bias-corrected Cramer's V for categorical-categorical association\n",
        "    tbl = pd.crosstab(x, y)\n",
        "    chi2 = stats.chi2_contingency(tbl, correction=False)[0]\n",
        "    n = tbl.values.sum()\n",
        "    r, k = tbl.shape\n",
        "    phi2 = chi2 / n\n",
        "    phi2corr = max(0, phi2 - (k-1)*(r-1)/(n-1))\n",
        "    rcorr = r - (r-1)**2/(n-1)\n",
        "    kcorr = k - (k-1)**2/(n-1)\n",
        "    return np.sqrt(phi2corr / min((kcorr-1), (rcorr-1))) if min((kcorr-1), (rcorr-1))>0 else np.nan\n",
        "\n",
        "\n",
        "def correlation_ratio(categories, measurements):\n",
        "    # Eta squared: categorical -> numeric\n",
        "    cats = pd.Categorical(categories)\n",
        "    y = pd.Series(measurements)\n",
        "    groups = [y[cats == cat] for cat in cats.categories]\n",
        "    n_total = sum(g.count() for g in groups)\n",
        "    y_total_mean = y.mean()\n",
        "    ss_between = sum(g.count() * (g.mean() - y_total_mean)**2 for g in groups)\n",
        "    ss_total = ((y - y_total_mean)**2).sum()\n",
        "    return float(ss_between / ss_total) if ss_total>0 else np.nan\n",
        "\n",
        "# Example usage\n",
        "cramers_by = cramers_v_from_series(df['segment'], df['channel'])\n",
        "eta_sq = correlation_ratio(df['segment'], df['monthly_revenue'])\n",
        "cramers_by, eta_sq"
      ]
    },
    {
      "cell_type": "markdown",
      "metadata": {},
      "source": [
        "## 8) Time‑series EDA (if `date` exists)"
      ]
    },
    {
      "cell_type": "code",
      "execution_count": null,
      "metadata": {},
      "outputs": [],
      "source": [
        "if 'date' in df:\n",
        "    ts = df.set_index('date').sort_index()\n",
        "\n",
        "    # Rolling mean and daily totals\n",
        "    daily = ts.resample('D').agg({'monthly_revenue':'sum'})\n",
        "    roll = daily.rolling(7, min_periods=1).mean()\n",
        "\n",
        "    fig, ax = plt.subplots(1,1, figsize=(12,4))\n",
        "    ax.plot(daily.index, daily['monthly_revenue'], alpha=0.5, label='Daily sum')\n",
        "    ax.plot(roll.index, roll['monthly_revenue'], color='crimson', label='7D rolling mean', linewidth=2)\n",
        "    ax.set_title('Daily revenue with 7‑day rolling mean')\n",
        "    ax.legend(); plt.show()\n",
        "\n",
        "    # Seasonal pattern by weekday & month\n",
        "    ts_features = df[['date','monthly_revenue']].copy()\n",
        "    ts_features['weekday'] = ts_features['date'].dt.day_name()\n",
        "    ts_features['month'] = ts_features['date'].dt.month_name()\n",
        "\n",
        "    plt.figure(figsize=(10,4))\n",
        "    sns.boxplot(data=ts_features, x='weekday', y='monthly_revenue', order=['Monday','Tuesday','Wednesday','Thursday','Friday','Saturday','Sunday'])\n",
        "    plt.xticks(rotation=20); plt.title('Revenue by weekday'); plt.tight_layout(); plt.show()\n",
        "\n",
        "    plt.figure(figsize=(8,4))\n",
        "    sns.boxplot(data=ts_features, x='month', y='monthly_revenue')\n",
        "    plt.xticks(rotation=20); plt.title('Revenue by month'); plt.tight_layout(); plt.show()"
      ]
    },
    {
      "cell_type": "markdown",
      "metadata": {},
      "source": [
        "## 9) Grouped summaries & pivot tables"
      ]
    },
    {
      "cell_type": "code",
      "execution_count": null,
      "metadata": {},
      "outputs": [],
      "source": [
        "# Grouped KPIs\n",
        "kpis = (df\n",
        "    .groupby(['segment','city'])\n",
        "    .agg(\n",
        "        count=('customer_id','count'),\n",
        "        rev_mean=('monthly_revenue','mean'),\n",
        "        rev_median=('monthly_revenue','median'),\n",
        "        rev_std=('monthly_revenue','std')\n",
        "    )\n",
        "    .sort_values('rev_mean', ascending=False)\n",
        ")\n",
        "kpis.head(10)"
      ]
    },
    {
      "cell_type": "code",
      "execution_count": null,
      "metadata": {},
      "outputs": [],
      "source": [
        "# Pivot table: average revenue by segment x channel\n",
        "pivot = pd.pivot_table(df, values='monthly_revenue', index='segment', columns='channel', aggfunc='mean')\n",
        "plt.figure(figsize=(6,4))\n",
        "sns.heatmap(pivot, annot=True, fmt='.0f', cmap='YlGnBu')\n",
        "plt.title('Average revenue by segment × channel')\n",
        "plt.tight_layout(); plt.show()"
      ]
    },
    {
      "cell_type": "markdown",
      "metadata": {},
      "source": [
        "## 10) Quick‑report helpers (callable functions)"
      ]
    },
    {
      "cell_type": "code",
      "execution_count": null,
      "metadata": {},
      "outputs": [],
      "source": [
        "from typing import List, Optional\n",
        "\n",
        "def quick_overview(df: pd.DataFrame, sample: int = 5):\n",
        "    display(df.head(sample))\n",
        "    print('\n",
        "Shape:', df.shape)\n",
        "    print('\n",
        "Dtypes:')\n",
        "    display(df.dtypes)\n",
        "    print('\n",
        "Missing values:')\n",
        "    display(df.isna().sum()[lambda s: s>0].sort_values(ascending=False))\n",
        "    print('\n",
        "Numeric summary:')\n",
        "    display(df.describe().T)\n",
        "\n",
        "\n",
        "def num_profile(df: pd.DataFrame, cols: Optional[List[str]] = None):\n",
        "    cols = cols or df.select_dtypes(include=[np.number]).columns.tolist()\n",
        "    out = []\n",
        "    for c in cols:\n",
        "        s = df[c]\n",
        "        out.append({\n",
        "            'col': c,\n",
        "            'count': int(s.count()),\n",
        "            'mean': float(s.mean()),\n",
        "            'std': float(s.std(ddof=1)),\n",
        "            'min': float(s.min()),\n",
        "            'p25': float(s.quantile(0.25)),\n",
        "            'median': float(s.median()),\n",
        "            'p75': float(s.quantile(0.75)),\n",
        "            'max': float(s.max()),\n",
        "            'skew': float(stats.skew(s.dropna())) if s.dropna().size>2 else np.nan,\n",
        "            'kurtosis': float(stats.kurtosis(s.dropna())) if s.dropna().size>2 else np.nan,\n",
        "        })\n",
        "    return pd.DataFrame(out).set_index('col')\n",
        "\n",
        "# Demo\n",
        "quick_overview(df)\n",
        "num_profile(df)"
      ]
    },
    {
      "cell_type": "markdown",
      "metadata": {},
      "source": [
        "---\n",
        "## Wrap‑up\n",
        "- Use this notebook as a template for new datasets.\n",
        "- Replace the synthetic data in **Section 1** with your own file.\n",
        "- Start with **overview → distributions → relationships → time series (if applicable)**.\n",
        "- Save useful helper functions (Section 10) into a shared utilities module."
      ]
    }
  ],
  "metadata": {
    "kernelspec": {
      "display_name": "Python 3",
      "language": "python",
      "name": "python3"
    },
    "language_info": {
      "name": "python",
      "version": "3.x"
    }
  },
  "nbformat": 4,
  "nbformat_minor": 5
}